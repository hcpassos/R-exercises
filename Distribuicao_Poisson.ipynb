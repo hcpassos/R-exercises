{
 "cells": [
  {
   "cell_type": "code",
   "execution_count": 2,
   "metadata": {},
   "outputs": [],
   "source": [
    "#Distribuição de Poisson\n",
    "#Nº médio de acidentes por dia = 2; calcular a probabilidade de 3 por dia"
   ]
  },
  {
   "cell_type": "code",
   "execution_count": 3,
   "metadata": {},
   "outputs": [],
   "source": [
    "x = 3"
   ]
  },
  {
   "cell_type": "code",
   "execution_count": 6,
   "metadata": {},
   "outputs": [
    {
     "data": {
      "text/html": [
       "0.180447044315484"
      ],
      "text/latex": [
       "0.180447044315484"
      ],
      "text/markdown": [
       "0.180447044315484"
      ],
      "text/plain": [
       "[1] 0.180447"
      ]
     },
     "metadata": {},
     "output_type": "display_data"
    }
   ],
   "source": [
    "dpois(3,lambda=2) #sintaxe: dpois(x,lambda=média) sendo x a variável independente"
   ]
  },
  {
   "cell_type": "code",
   "execution_count": 7,
   "metadata": {},
   "outputs": [],
   "source": [
    "#Nº médio de acidentes por dia = 2; calcular a probabilidade de x <= 3"
   ]
  },
  {
   "cell_type": "code",
   "execution_count": 8,
   "metadata": {},
   "outputs": [
    {
     "data": {
      "text/html": [
       "0.857123460498547"
      ],
      "text/latex": [
       "0.857123460498547"
      ],
      "text/markdown": [
       "0.857123460498547"
      ],
      "text/plain": [
       "[1] 0.8571235"
      ]
     },
     "metadata": {},
     "output_type": "display_data"
    }
   ],
   "source": [
    "ppois(3,lambda=2)"
   ]
  },
  {
   "cell_type": "code",
   "execution_count": 9,
   "metadata": {},
   "outputs": [],
   "source": [
    "#Nº médio de acidentes por dia = 2; calcular a probabilidade de x > 3"
   ]
  },
  {
   "cell_type": "code",
   "execution_count": 10,
   "metadata": {},
   "outputs": [
    {
     "data": {
      "text/html": [
       "0.142876539501453"
      ],
      "text/latex": [
       "0.142876539501453"
      ],
      "text/markdown": [
       "0.142876539501453"
      ],
      "text/plain": [
       "[1] 0.1428765"
      ]
     },
     "metadata": {},
     "output_type": "display_data"
    }
   ],
   "source": [
    "ppois(3,lambda=2,lower.tail=F)"
   ]
  },
  {
   "cell_type": "code",
   "execution_count": null,
   "metadata": {},
   "outputs": [],
   "source": []
  }
 ],
 "metadata": {
  "kernelspec": {
   "display_name": "R",
   "language": "R",
   "name": "ir"
  },
  "language_info": {
   "codemirror_mode": "r",
   "file_extension": ".r",
   "mimetype": "text/x-r-source",
   "name": "R",
   "pygments_lexer": "r",
   "version": "3.5.1"
  }
 },
 "nbformat": 4,
 "nbformat_minor": 2
}
