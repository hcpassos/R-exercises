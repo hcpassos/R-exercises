{
 "cells": [
  {
   "cell_type": "code",
   "execution_count": 3,
   "metadata": {},
   "outputs": [],
   "source": [
    "#Para o teste T de Student:\n",
    "    # t.test(y~x)"
   ]
  },
  {
   "cell_type": "code",
   "execution_count": 7,
   "metadata": {},
   "outputs": [],
   "source": [
    "#Para análise de variância:\n",
    "    #Com um fator(Só o remédio):\n",
    "        # aov(V.Dependente ~ V.Independente, data=dados) sendo X,Y e o dataset, respectivamente.\n",
    "    #Com dois fatores(Remédio e entre sexo):\n",
    "        # aov(V.Dependente ~ V.Independente * V.Independente, data=dados)"
   ]
  },
  {
   "cell_type": "code",
   "execution_count": 8,
   "metadata": {},
   "outputs": [],
   "source": [
    "#Caso haja variação, se usa:\n",
    "#Teste de Tukey:\n",
    "    #TukeyHSD(aov)"
   ]
  },
  {
   "cell_type": "code",
   "execution_count": 10,
   "metadata": {},
   "outputs": [],
   "source": [
    "tratamento = read.csv(file.choose(),se=\";\",header=T)"
   ]
  },
  {
   "cell_type": "code",
   "execution_count": 11,
   "metadata": {},
   "outputs": [],
   "source": [
    "fix(tratamento)"
   ]
  },
  {
   "cell_type": "code",
   "execution_count": 13,
   "metadata": {},
   "outputs": [
    {
     "data": {
      "image/png": "[encoded data removed]",
      "text/plain": [
       "plot without title"
      ]
     },
     "metadata": {},
     "output_type": "display_data"
    }
   ],
   "source": [
    "boxplot(tratamento$Horas ~ tratamento$Remedio)"
   ]
  },
  {
   "cell_type": "code",
   "execution_count": 14,
   "metadata": {},
   "outputs": [],
   "source": [
    "#Pontos à Observar:\n",
    "    #Mesmo limite inferior e superior\n",
    "    #Mediana entre A e B é a mesma, no C é um pouco acima\n",
    "    #No remédio A, temos uma distribuição quase homogênea, no B e C, temos uma disposição na cauda esquerda e direita, respectivamente.\n"
   ]
  },
  {
   "cell_type": "code",
   "execution_count": 15,
   "metadata": {},
   "outputs": [],
   "source": [
    "#Análise de variância de um fator\n",
    "an = aov(Horas ~ Remedio, data=tratamento)"
   ]
  },
  {
   "cell_type": "code",
   "execution_count": 17,
   "metadata": {},
   "outputs": [
    {
     "data": {
      "text/plain": [
       "            Df Sum Sq Mean Sq F value Pr(>F)\n",
       "Remedio      2   4.08   2.042   0.538  0.592\n",
       "Residuals   21  79.75   3.798               "
      ]
     },
     "metadata": {},
     "output_type": "display_data"
    }
   ],
   "source": [
    "summary(an) #Observar o p-value"
   ]
  },
  {
   "cell_type": "code",
   "execution_count": 18,
   "metadata": {},
   "outputs": [],
   "source": [
    "#Análise de variância de dois fatores\n",
    "an = aov(Horas ~ Remedio * Sexo, data=tratamento)"
   ]
  },
  {
   "cell_type": "code",
   "execution_count": 20,
   "metadata": {},
   "outputs": [
    {
     "data": {
      "text/plain": [
       "             Df Sum Sq Mean Sq F value Pr(>F)\n",
       "Remedio       2   4.08   2.042   0.533  0.596\n",
       "Sexo          1   4.17   4.167   1.087  0.311\n",
       "Remedio:Sexo  2   6.58   3.292   0.859  0.440\n",
       "Residuals    18  69.00   3.833               "
      ]
     },
     "metadata": {},
     "output_type": "display_data"
    }
   ],
   "source": [
    "summary(an) #Observar p-value"
   ]
  },
  {
   "cell_type": "code",
   "execution_count": 21,
   "metadata": {},
   "outputs": [],
   "source": [
    "an = aov(Horas ~ Remedio, data=tratamento)"
   ]
  },
  {
   "cell_type": "code",
   "execution_count": 22,
   "metadata": {},
   "outputs": [],
   "source": [
    "tukey = TukeyHSD(an) #Conforme p-value > alfa, é hora de usar o teste de Tukey par analisar a variancia"
   ]
  },
  {
   "cell_type": "code",
   "execution_count": 23,
   "metadata": {},
   "outputs": [
    {
     "data": {
      "text/plain": [
       "  Tukey multiple comparisons of means\n",
       "    95% family-wise confidence level\n",
       "\n",
       "Fit: aov(formula = Horas ~ Remedio, data = tratamento)\n",
       "\n",
       "$Remedio\n",
       "      diff       lwr      upr     p adj\n",
       "B-A -0.625 -3.080978 1.830978 0.7991405\n",
       "C-A  0.375 -2.080978 2.830978 0.9218996\n",
       "C-B  1.000 -1.455978 3.455978 0.5689472\n"
      ]
     },
     "metadata": {},
     "output_type": "display_data"
    }
   ],
   "source": [
    "tukey"
   ]
  },
  {
   "cell_type": "code",
   "execution_count": 24,
   "metadata": {},
   "outputs": [
    {
     "data": {
      "image/png": "[encoded data removed]",
      "text/plain": [
       "Plot with title \"95% family-wise confidence level\n",
       "\""
      ]
     },
     "metadata": {},
     "output_type": "display_data"
    }
   ],
   "source": [
    "plot(tukey)"
   ]
  },
  {
   "cell_type": "code",
   "execution_count": 25,
   "metadata": {},
   "outputs": [],
   "source": [
    "#O gráfico ajuda a ter uma melhor dimensão da média da variância entre os remédios"
   ]
  },
  {
   "cell_type": "code",
   "execution_count": null,
   "metadata": {},
   "outputs": [],
   "source": []
  }
 ],
 "metadata": {
  "kernelspec": {
   "display_name": "R",
   "language": "R",
   "name": "ir"
  },
  "language_info": {
   "codemirror_mode": "r",
   "file_extension": ".r",
   "mimetype": "text/x-r-source",
   "name": "R",
   "pygments_lexer": "r",
   "version": "3.5.1"
  }
 },
 "nbformat": 4,
 "nbformat_minor": 2
}
