{
 "cells": [
  {
   "cell_type": "code",
   "execution_count": 1,
   "metadata": {},
   "outputs": [],
   "source": [
    "jogadores = c(40000,18000,12000,250000,30000,140000,300000,40000,800000)"
   ]
  },
  {
   "cell_type": "code",
   "execution_count": 2,
   "metadata": {},
   "outputs": [
    {
     "data": {
      "text/html": [
       "181111.111111111"
      ],
      "text/latex": [
       "181111.111111111"
      ],
      "text/markdown": [
       "181111.111111111"
      ],
      "text/plain": [
       "[1] 181111.1"
      ]
     },
     "metadata": {},
     "output_type": "display_data"
    }
   ],
   "source": [
    "mean(jogadores)"
   ]
  },
  {
   "cell_type": "code",
   "execution_count": 3,
   "metadata": {},
   "outputs": [
    {
     "data": {
      "text/html": [
       "40000"
      ],
      "text/latex": [
       "40000"
      ],
      "text/markdown": [
       "40000"
      ],
      "text/plain": [
       "[1] 40000"
      ]
     },
     "metadata": {},
     "output_type": "display_data"
    }
   ],
   "source": [
    "median(jogadores)"
   ]
  },
  {
   "cell_type": "code",
   "execution_count": 4,
   "metadata": {},
   "outputs": [
    {
     "data": {
      "text/html": [
       "<dl class=dl-horizontal>\n",
       "\t<dt>0%</dt>\n",
       "\t\t<dd>12000</dd>\n",
       "\t<dt>25%</dt>\n",
       "\t\t<dd>30000</dd>\n",
       "\t<dt>50%</dt>\n",
       "\t\t<dd>40000</dd>\n",
       "\t<dt>75%</dt>\n",
       "\t\t<dd>250000</dd>\n",
       "\t<dt>100%</dt>\n",
       "\t\t<dd>8e+05</dd>\n",
       "</dl>\n"
      ],
      "text/latex": [
       "\\begin{description*}\n",
       "\\item[0\\textbackslash{}\\%] 12000\n",
       "\\item[25\\textbackslash{}\\%] 30000\n",
       "\\item[50\\textbackslash{}\\%] 40000\n",
       "\\item[75\\textbackslash{}\\%] 250000\n",
       "\\item[100\\textbackslash{}\\%] 8e+05\n",
       "\\end{description*}\n"
      ],
      "text/markdown": [
       "0%\n",
       ":   1200025%\n",
       ":   3000050%\n",
       ":   4000075%\n",
       ":   250000100%\n",
       ":   8e+05\n",
       "\n"
      ],
      "text/plain": [
       "    0%    25%    50%    75%   100% \n",
       " 12000  30000  40000 250000 800000 "
      ]
     },
     "metadata": {},
     "output_type": "display_data"
    }
   ],
   "source": [
    "quartis = quantile(jogadores)\n",
    "quartis"
   ]
  },
  {
   "cell_type": "code",
   "execution_count": 5,
   "metadata": {},
   "outputs": [
    {
     "data": {
      "text/html": [
       "<strong>50%:</strong> 40000"
      ],
      "text/latex": [
       "\\textbf{50\\textbackslash{}\\%:} 40000"
      ],
      "text/markdown": [
       "**50%:** 40000"
      ],
      "text/plain": [
       "  50% \n",
       "40000 "
      ]
     },
     "metadata": {},
     "output_type": "display_data"
    }
   ],
   "source": [
    "quartis[3]"
   ]
  },
  {
   "cell_type": "code",
   "execution_count": 6,
   "metadata": {},
   "outputs": [
    {
     "data": {
      "text/html": [
       "255307.87514511"
      ],
      "text/latex": [
       "255307.87514511"
      ],
      "text/markdown": [
       "255307.87514511"
      ],
      "text/plain": [
       "[1] 255307.9"
      ]
     },
     "metadata": {},
     "output_type": "display_data"
    }
   ],
   "source": [
    "sd(jogadores)"
   ]
  },
  {
   "cell_type": "code",
   "execution_count": 7,
   "metadata": {},
   "outputs": [
    {
     "data": {
      "text/plain": [
       "   Min. 1st Qu.  Median    Mean 3rd Qu.    Max. \n",
       "  12000   30000   40000  181111  250000  800000 "
      ]
     },
     "metadata": {},
     "output_type": "display_data"
    }
   ],
   "source": [
    "summary(jogadores)"
   ]
  },
  {
   "cell_type": "code",
   "execution_count": null,
   "metadata": {},
   "outputs": [],
   "source": []
  }
 ],
 "metadata": {
  "kernelspec": {
   "display_name": "R",
   "language": "R",
   "name": "ir"
  },
  "language_info": {
   "codemirror_mode": "r",
   "file_extension": ".r",
   "mimetype": "text/x-r-source",
   "name": "R",
   "pygments_lexer": "r",
   "version": "3.5.1"
  }
 },
 "nbformat": 4,
 "nbformat_minor": 2
}
